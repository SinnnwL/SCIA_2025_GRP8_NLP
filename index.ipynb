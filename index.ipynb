{
 "cells": [
  {
   "cell_type": "markdown",
   "id": "2a400de7-dec1-45b8-9166-72e145cde081",
   "metadata": {},
   "source": [
    "# Loading the Dataset"
   ]
  },
  {
   "cell_type": "code",
   "execution_count": 2,
   "id": "6db9ca16-c5eb-45e1-8dcb-f023043d9f77",
   "metadata": {},
   "outputs": [],
   "source": [
    "import pandas as pd"
   ]
  },
  {
   "cell_type": "code",
   "execution_count": 34,
   "id": "ab695565-1684-48f9-996a-d46a83bf1c4b",
   "metadata": {},
   "outputs": [
    {
     "data": {
      "text/html": [
       "<div>\n",
       "<style scoped>\n",
       "    .dataframe tbody tr th:only-of-type {\n",
       "        vertical-align: middle;\n",
       "    }\n",
       "\n",
       "    .dataframe tbody tr th {\n",
       "        vertical-align: top;\n",
       "    }\n",
       "\n",
       "    .dataframe thead th {\n",
       "        text-align: right;\n",
       "    }\n",
       "</style>\n",
       "<table border=\"1\" class=\"dataframe\">\n",
       "  <thead>\n",
       "    <tr style=\"text-align: right;\">\n",
       "      <th></th>\n",
       "      <th>movie_id</th>\n",
       "      <th>plot_summary</th>\n",
       "      <th>duration</th>\n",
       "      <th>genre</th>\n",
       "      <th>rating</th>\n",
       "      <th>release_date</th>\n",
       "      <th>plot_synopsis</th>\n",
       "    </tr>\n",
       "  </thead>\n",
       "  <tbody>\n",
       "    <tr>\n",
       "      <th>0</th>\n",
       "      <td>tt0105112</td>\n",
       "      <td>Former CIA analyst, Jack Ryan is in England wi...</td>\n",
       "      <td>1h 57min</td>\n",
       "      <td>[Action, Thriller]</td>\n",
       "      <td>6.9</td>\n",
       "      <td>1992-06-05</td>\n",
       "      <td>Jack Ryan (Ford) is on a \"working vacation\" in...</td>\n",
       "    </tr>\n",
       "    <tr>\n",
       "      <th>1</th>\n",
       "      <td>tt1204975</td>\n",
       "      <td>Billy (Michael Douglas), Paddy (Robert De Niro...</td>\n",
       "      <td>1h 45min</td>\n",
       "      <td>[Comedy]</td>\n",
       "      <td>6.6</td>\n",
       "      <td>2013-11-01</td>\n",
       "      <td>Four boys around the age of 10 are friends in ...</td>\n",
       "    </tr>\n",
       "    <tr>\n",
       "      <th>2</th>\n",
       "      <td>tt0243655</td>\n",
       "      <td>The setting is Camp Firewood, the year 1981. I...</td>\n",
       "      <td>1h 37min</td>\n",
       "      <td>[Comedy, Romance]</td>\n",
       "      <td>6.7</td>\n",
       "      <td>2002-04-11</td>\n",
       "      <td></td>\n",
       "    </tr>\n",
       "    <tr>\n",
       "      <th>3</th>\n",
       "      <td>tt0040897</td>\n",
       "      <td>Fred C. Dobbs and Bob Curtin, both down on the...</td>\n",
       "      <td>2h 6min</td>\n",
       "      <td>[Adventure, Drama, Western]</td>\n",
       "      <td>8.3</td>\n",
       "      <td>1948-01-24</td>\n",
       "      <td>Fred Dobbs (Humphrey Bogart) and Bob Curtin (T...</td>\n",
       "    </tr>\n",
       "    <tr>\n",
       "      <th>4</th>\n",
       "      <td>tt0126886</td>\n",
       "      <td>Tracy Flick is running unopposed for this year...</td>\n",
       "      <td>1h 43min</td>\n",
       "      <td>[Comedy, Drama, Romance]</td>\n",
       "      <td>7.3</td>\n",
       "      <td>1999-05-07</td>\n",
       "      <td>Jim McAllister (Matthew Broderick) is a much-a...</td>\n",
       "    </tr>\n",
       "  </tbody>\n",
       "</table>\n",
       "</div>"
      ],
      "text/plain": [
       "    movie_id                                       plot_summary  duration  \\\n",
       "0  tt0105112  Former CIA analyst, Jack Ryan is in England wi...  1h 57min   \n",
       "1  tt1204975  Billy (Michael Douglas), Paddy (Robert De Niro...  1h 45min   \n",
       "2  tt0243655  The setting is Camp Firewood, the year 1981. I...  1h 37min   \n",
       "3  tt0040897  Fred C. Dobbs and Bob Curtin, both down on the...   2h 6min   \n",
       "4  tt0126886  Tracy Flick is running unopposed for this year...  1h 43min   \n",
       "\n",
       "                         genre  rating release_date  \\\n",
       "0           [Action, Thriller]     6.9   1992-06-05   \n",
       "1                     [Comedy]     6.6   2013-11-01   \n",
       "2            [Comedy, Romance]     6.7   2002-04-11   \n",
       "3  [Adventure, Drama, Western]     8.3   1948-01-24   \n",
       "4     [Comedy, Drama, Romance]     7.3   1999-05-07   \n",
       "\n",
       "                                       plot_synopsis  \n",
       "0  Jack Ryan (Ford) is on a \"working vacation\" in...  \n",
       "1  Four boys around the age of 10 are friends in ...  \n",
       "2                                                     \n",
       "3  Fred Dobbs (Humphrey Bogart) and Bob Curtin (T...  \n",
       "4  Jim McAllister (Matthew Broderick) is a much-a...  "
      ]
     },
     "metadata": {},
     "output_type": "display_data"
    },
    {
     "data": {
      "text/html": [
       "<div>\n",
       "<style scoped>\n",
       "    .dataframe tbody tr th:only-of-type {\n",
       "        vertical-align: middle;\n",
       "    }\n",
       "\n",
       "    .dataframe tbody tr th {\n",
       "        vertical-align: top;\n",
       "    }\n",
       "\n",
       "    .dataframe thead th {\n",
       "        text-align: right;\n",
       "    }\n",
       "</style>\n",
       "<table border=\"1\" class=\"dataframe\">\n",
       "  <thead>\n",
       "    <tr style=\"text-align: right;\">\n",
       "      <th></th>\n",
       "      <th>review_date</th>\n",
       "      <th>movie_id</th>\n",
       "      <th>user_id</th>\n",
       "      <th>is_spoiler</th>\n",
       "      <th>review_text</th>\n",
       "      <th>rating</th>\n",
       "      <th>review_summary</th>\n",
       "    </tr>\n",
       "  </thead>\n",
       "  <tbody>\n",
       "    <tr>\n",
       "      <th>0</th>\n",
       "      <td>10 February 2006</td>\n",
       "      <td>tt0111161</td>\n",
       "      <td>ur1898687</td>\n",
       "      <td>True</td>\n",
       "      <td>In its Oscar year, Shawshank Redemption (writt...</td>\n",
       "      <td>10</td>\n",
       "      <td>A classic piece of unforgettable film-making.</td>\n",
       "    </tr>\n",
       "    <tr>\n",
       "      <th>1</th>\n",
       "      <td>6 September 2000</td>\n",
       "      <td>tt0111161</td>\n",
       "      <td>ur0842118</td>\n",
       "      <td>True</td>\n",
       "      <td>The Shawshank Redemption is without a doubt on...</td>\n",
       "      <td>10</td>\n",
       "      <td>Simply amazing. The best film of the 90's.</td>\n",
       "    </tr>\n",
       "    <tr>\n",
       "      <th>2</th>\n",
       "      <td>3 August 2001</td>\n",
       "      <td>tt0111161</td>\n",
       "      <td>ur1285640</td>\n",
       "      <td>True</td>\n",
       "      <td>I believe that this film is the best story eve...</td>\n",
       "      <td>8</td>\n",
       "      <td>The best story ever told on film</td>\n",
       "    </tr>\n",
       "    <tr>\n",
       "      <th>3</th>\n",
       "      <td>1 September 2002</td>\n",
       "      <td>tt0111161</td>\n",
       "      <td>ur1003471</td>\n",
       "      <td>True</td>\n",
       "      <td>**Yes, there are SPOILERS here**This film has ...</td>\n",
       "      <td>10</td>\n",
       "      <td>Busy dying or busy living?</td>\n",
       "    </tr>\n",
       "    <tr>\n",
       "      <th>4</th>\n",
       "      <td>20 May 2004</td>\n",
       "      <td>tt0111161</td>\n",
       "      <td>ur0226855</td>\n",
       "      <td>True</td>\n",
       "      <td>At the heart of this extraordinary movie is a ...</td>\n",
       "      <td>8</td>\n",
       "      <td>Great story, wondrously told and acted</td>\n",
       "    </tr>\n",
       "  </tbody>\n",
       "</table>\n",
       "</div>"
      ],
      "text/plain": [
       "        review_date   movie_id    user_id  is_spoiler  \\\n",
       "0  10 February 2006  tt0111161  ur1898687        True   \n",
       "1  6 September 2000  tt0111161  ur0842118        True   \n",
       "2     3 August 2001  tt0111161  ur1285640        True   \n",
       "3  1 September 2002  tt0111161  ur1003471        True   \n",
       "4       20 May 2004  tt0111161  ur0226855        True   \n",
       "\n",
       "                                         review_text  rating  \\\n",
       "0  In its Oscar year, Shawshank Redemption (writt...      10   \n",
       "1  The Shawshank Redemption is without a doubt on...      10   \n",
       "2  I believe that this film is the best story eve...       8   \n",
       "3  **Yes, there are SPOILERS here**This film has ...      10   \n",
       "4  At the heart of this extraordinary movie is a ...       8   \n",
       "\n",
       "                                  review_summary  \n",
       "0  A classic piece of unforgettable film-making.  \n",
       "1     Simply amazing. The best film of the 90's.  \n",
       "2               The best story ever told on film  \n",
       "3                     Busy dying or busy living?  \n",
       "4         Great story, wondrously told and acted  "
      ]
     },
     "metadata": {},
     "output_type": "display_data"
    }
   ],
   "source": [
    "movies_details_df = pd.read_json('IMDB_movie_details.json', lines=True)\n",
    "display(movies_details_df.head())\n",
    "\n",
    "reviews_df = pd.read_json('IMDB_reviews.json', lines=True)\n",
    "display(reviews_df.head())"
   ]
  },
  {
   "cell_type": "markdown",
   "id": "12a5c837-e9b1-44b9-ab07-3ed986cb219e",
   "metadata": {
    "jp-MarkdownHeadingCollapsed": true
   },
   "source": [
    "# Presentation of the Dataset"
   ]
  },
  {
   "cell_type": "code",
   "execution_count": 27,
   "id": "ad17cc0e-60c7-4de3-8d78-e77c076e4594",
   "metadata": {},
   "outputs": [],
   "source": [
    "#TODO"
   ]
  },
  {
   "cell_type": "markdown",
   "id": "9d395cad-a337-4db1-9543-d2960158641a",
   "metadata": {
    "jp-MarkdownHeadingCollapsed": true
   },
   "source": [
    "# Preprocessing"
   ]
  },
  {
   "cell_type": "markdown",
   "id": "cc35d00a-0322-4bb3-bc44-1ff2f74da273",
   "metadata": {
    "jp-MarkdownHeadingCollapsed": true
   },
   "source": [
    "## Tokenizer with regular expressions"
   ]
  },
  {
   "cell_type": "code",
   "execution_count": 6,
   "id": "26239525-e950-4808-9434-16292664919d",
   "metadata": {
    "scrolled": true
   },
   "outputs": [
    {
     "name": "stdout",
     "output_type": "stream",
     "text": [
      "Defaulting to user installation because normal site-packages is not writeable\n",
      "Requirement already satisfied: nltk in /home/lyes/.local/lib/python3.10/site-packages (3.8.1)\n",
      "Requirement already satisfied: regex>=2021.8.3 in /home/lyes/.local/lib/python3.10/site-packages (from nltk) (2023.12.25)\n",
      "Requirement already satisfied: click in /usr/lib/python3/dist-packages (from nltk) (8.0.3)\n",
      "Requirement already satisfied: tqdm in /home/lyes/.local/lib/python3.10/site-packages (from nltk) (4.66.2)\n",
      "Requirement already satisfied: joblib in /home/lyes/.local/lib/python3.10/site-packages (from nltk) (1.3.2)\n"
     ]
    }
   ],
   "source": [
    "!pip install nltk"
   ]
  },
  {
   "cell_type": "code",
   "execution_count": 7,
   "id": "847ff65c-6281-4026-8fa0-0126e22fbaac",
   "metadata": {},
   "outputs": [
    {
     "name": "stderr",
     "output_type": "stream",
     "text": [
      "[nltk_data] Downloading package punkt to /home/lyes/nltk_data...\n",
      "[nltk_data]   Package punkt is already up-to-date!\n"
     ]
    },
    {
     "data": {
      "text/plain": [
       "True"
      ]
     },
     "execution_count": 7,
     "metadata": {},
     "output_type": "execute_result"
    }
   ],
   "source": [
    "import nltk\n",
    "nltk.download('punkt')"
   ]
  },
  {
   "cell_type": "code",
   "execution_count": 8,
   "id": "98e760bc-9a11-429d-a4d5-4a5aef8a3008",
   "metadata": {},
   "outputs": [],
   "source": [
    "imdb_spoilers_list = list(movies_details_df['plot_synopsis']) \\\n",
    "                    + list(movies_details_df['plot_summary']) \\\n",
    "                    + list(reviews_df['review_summary']) \\\n",
    "                    + list(reviews_df['review_text'])\n",
    "\n",
    "imdb_spoilers_strings = \" \".join(imdb_spoilers_list)"
   ]
  },
  {
   "cell_type": "code",
   "execution_count": 12,
   "id": "174da183-c434-470c-bcff-e3c038230955",
   "metadata": {},
   "outputs": [],
   "source": [
    "from nltk.tokenize import word_tokenize, sent_tokenize\n",
    "\n",
    "# Have to reduce cause the len of `imdb_spoilers_strings` is 872 920 167 which way too big for my PC to tokenize (I might use Spark)\n",
    "imdb_spoilers_strings_reduced = imdb_spoilers_strings[:1000000]\n",
    "imdb_spoilers_tokens = word_tokenize(imdb_spoilers_strings_reduced) "
   ]
  },
  {
   "cell_type": "markdown",
   "id": "ba4e903e-da97-4b5e-929b-7216bf0c08d4",
   "metadata": {
    "jp-MarkdownHeadingCollapsed": true
   },
   "source": [
    "## Tokenizer with BPE"
   ]
  },
  {
   "cell_type": "code",
   "execution_count": 25,
   "id": "25fba104-8b84-48b0-81e2-ebcba29778d5",
   "metadata": {},
   "outputs": [
    {
     "name": "stdout",
     "output_type": "stream",
     "text": [
      "Defaulting to user installation because normal site-packages is not writeable\n",
      "Requirement already satisfied: tiktoken in /home/lyes/.local/lib/python3.10/site-packages (0.6.0)\n",
      "Requirement already satisfied: regex>=2022.1.18 in /home/lyes/.local/lib/python3.10/site-packages (from tiktoken) (2023.12.25)\n",
      "Requirement already satisfied: requests>=2.26.0 in /home/lyes/.local/lib/python3.10/site-packages (from tiktoken) (2.31.0)\n",
      "Requirement already satisfied: charset-normalizer<4,>=2 in /home/lyes/.local/lib/python3.10/site-packages (from requests>=2.26.0->tiktoken) (3.3.2)\n",
      "Requirement already satisfied: certifi>=2017.4.17 in /home/lyes/.local/lib/python3.10/site-packages (from requests>=2.26.0->tiktoken) (2024.2.2)\n",
      "Requirement already satisfied: idna<4,>=2.5 in /usr/lib/python3/dist-packages (from requests>=2.26.0->tiktoken) (3.3)\n",
      "Requirement already satisfied: urllib3<3,>=1.21.1 in /usr/lib/python3/dist-packages (from requests>=2.26.0->tiktoken) (1.26.5)\n"
     ]
    }
   ],
   "source": [
    "!pip install tiktoken"
   ]
  },
  {
   "cell_type": "code",
   "execution_count": 19,
   "id": "902e13fc-6d2d-4b2b-a75b-8e659341a586",
   "metadata": {},
   "outputs": [],
   "source": [
    "import tiktoken"
   ]
  },
  {
   "cell_type": "code",
   "execution_count": 20,
   "id": "74e675ec-b4c6-4e40-bb33-17ffc661b330",
   "metadata": {},
   "outputs": [],
   "source": [
    "enc = tiktoken.encoding_for_model(\"gpt-4\")\n",
    "imdb_spoilers_tokens_bpe = enc.encode(imdb_spoilers_strings_reduced)"
   ]
  },
  {
   "cell_type": "markdown",
   "id": "bbdaf486-360f-4208-bd8e-73badb851fb3",
   "metadata": {},
   "source": [
    "## Normalisation"
   ]
  },
  {
   "cell_type": "markdown",
   "id": "00890a00-aeaa-40f8-9503-22978c0b1e11",
   "metadata": {},
   "source": [
    "### Deleting the stopwords && put in lowercase the words"
   ]
  },
  {
   "cell_type": "code",
   "execution_count": 21,
   "id": "63e7eebe-97a8-45ba-950b-7e0624062129",
   "metadata": {},
   "outputs": [
    {
     "name": "stderr",
     "output_type": "stream",
     "text": [
      "[nltk_data] Downloading package stopwords to /home/lyes/nltk_data...\n",
      "[nltk_data]   Package stopwords is already up-to-date!\n"
     ]
    },
    {
     "data": {
      "text/plain": [
       "True"
      ]
     },
     "execution_count": 21,
     "metadata": {},
     "output_type": "execute_result"
    }
   ],
   "source": [
    "from nltk.corpus import stopwords\n",
    "nltk.download('stopwords')"
   ]
  },
  {
   "cell_type": "code",
   "execution_count": 22,
   "id": "73de2e3d-eb74-46b2-9b3a-19be5193c973",
   "metadata": {},
   "outputs": [],
   "source": [
    "stop_words = set(stopwords.words('english'))\n",
    "imdb_spoilers_tokens = [w.lower() for w in imdb_spoilers_tokens if not w.lower() in stop_words]"
   ]
  },
  {
   "cell_type": "markdown",
   "id": "76e7e8fd-3c98-46f8-98f6-4bdd0b41db07",
   "metadata": {},
   "source": [
    "### Lemmatization : Changes the word to their inflected form (sleeping -> sleep)"
   ]
  },
  {
   "cell_type": "code",
   "execution_count": 23,
   "id": "30df8bbf-65c9-4d9a-8bd7-11bebec501ca",
   "metadata": {},
   "outputs": [
    {
     "name": "stderr",
     "output_type": "stream",
     "text": [
      "[nltk_data] Downloading package wordnet to /home/lyes/nltk_data...\n"
     ]
    },
    {
     "data": {
      "text/plain": [
       "True"
      ]
     },
     "execution_count": 23,
     "metadata": {},
     "output_type": "execute_result"
    }
   ],
   "source": [
    "from nltk.stem import WordNetLemmatizer\n",
    "nltk.download('wordnet')"
   ]
  },
  {
   "cell_type": "code",
   "execution_count": 24,
   "id": "7ec77a57-fd3b-4d5b-933b-fa88c55caa45",
   "metadata": {},
   "outputs": [],
   "source": [
    "lemmatizer = WordNetLemmatizer()\n",
    "imdb_spoilers_tokens = [lemmatizer.lemmatize(w) for w in imdb_spoilers_tokens]"
   ]
  },
  {
   "cell_type": "markdown",
   "id": "722d9742-86cf-461c-9533-00856b075f70",
   "metadata": {
    "jp-MarkdownHeadingCollapsed": true
   },
   "source": [
    "# Descriptive statistics"
   ]
  },
  {
   "cell_type": "markdown",
   "id": "ee1c6750-4624-40d8-a9ed-df858a3723d3",
   "metadata": {},
   "source": [
    "# Training on several predictive models"
   ]
  },
  {
   "cell_type": "markdown",
   "id": "f0de7c61-c052-4fac-882e-639c94a44291",
   "metadata": {},
   "source": [
    "## Setup the dataFrame for the predictive models"
   ]
  },
  {
   "cell_type": "markdown",
   "id": "371b6034-9b3e-4f68-bbfd-a57da0287ae5",
   "metadata": {},
   "source": [
    "Which part contains spoilers ?\n",
    "\n",
    "1. Plot summary : Does not contain spoiler\n",
    "2. Plot synopsis: Contains Spoiler"
   ]
  },
  {
   "cell_type": "code",
   "execution_count": 35,
   "id": "2d5361e6-1620-4120-aecf-79d546c44348",
   "metadata": {},
   "outputs": [
    {
     "data": {
      "text/html": [
       "<div>\n",
       "<style scoped>\n",
       "    .dataframe tbody tr th:only-of-type {\n",
       "        vertical-align: middle;\n",
       "    }\n",
       "\n",
       "    .dataframe tbody tr th {\n",
       "        vertical-align: top;\n",
       "    }\n",
       "\n",
       "    .dataframe thead th {\n",
       "        text-align: right;\n",
       "    }\n",
       "</style>\n",
       "<table border=\"1\" class=\"dataframe\">\n",
       "  <thead>\n",
       "    <tr style=\"text-align: right;\">\n",
       "      <th></th>\n",
       "      <th>text</th>\n",
       "      <th>is_spoiler</th>\n",
       "    </tr>\n",
       "  </thead>\n",
       "  <tbody>\n",
       "    <tr>\n",
       "      <th>0</th>\n",
       "      <td>In its Oscar year, Shawshank Redemption (writt...</td>\n",
       "      <td>True</td>\n",
       "    </tr>\n",
       "    <tr>\n",
       "      <th>1</th>\n",
       "      <td>The Shawshank Redemption is without a doubt on...</td>\n",
       "      <td>True</td>\n",
       "    </tr>\n",
       "    <tr>\n",
       "      <th>2</th>\n",
       "      <td>I believe that this film is the best story eve...</td>\n",
       "      <td>True</td>\n",
       "    </tr>\n",
       "    <tr>\n",
       "      <th>3</th>\n",
       "      <td>**Yes, there are SPOILERS here**This film has ...</td>\n",
       "      <td>True</td>\n",
       "    </tr>\n",
       "    <tr>\n",
       "      <th>4</th>\n",
       "      <td>At the heart of this extraordinary movie is a ...</td>\n",
       "      <td>True</td>\n",
       "    </tr>\n",
       "    <tr>\n",
       "      <th>...</th>\n",
       "      <td>...</td>\n",
       "      <td>...</td>\n",
       "    </tr>\n",
       "    <tr>\n",
       "      <th>576819</th>\n",
       "      <td>The film opens with a homeless man (Bud Cort) ...</td>\n",
       "      <td>True</td>\n",
       "    </tr>\n",
       "    <tr>\n",
       "      <th>576820</th>\n",
       "      <td>Will Freeman (Hugh Grant) is a 38-year-old bac...</td>\n",
       "      <td>True</td>\n",
       "    </tr>\n",
       "    <tr>\n",
       "      <th>576821</th>\n",
       "      <td>In the year 1998, Evan Treborn (Ashton Kutcher...</td>\n",
       "      <td>True</td>\n",
       "    </tr>\n",
       "    <tr>\n",
       "      <th>576822</th>\n",
       "      <td>Brandon (Michael Fassbender) is a successful, ...</td>\n",
       "      <td>True</td>\n",
       "    </tr>\n",
       "    <tr>\n",
       "      <th>576823</th>\n",
       "      <td>The film alternates between three different pe...</td>\n",
       "      <td>True</td>\n",
       "    </tr>\n",
       "  </tbody>\n",
       "</table>\n",
       "<p>576824 rows × 2 columns</p>\n",
       "</div>"
      ],
      "text/plain": [
       "                                                     text  is_spoiler\n",
       "0       In its Oscar year, Shawshank Redemption (writt...        True\n",
       "1       The Shawshank Redemption is without a doubt on...        True\n",
       "2       I believe that this film is the best story eve...        True\n",
       "3       **Yes, there are SPOILERS here**This film has ...        True\n",
       "4       At the heart of this extraordinary movie is a ...        True\n",
       "...                                                   ...         ...\n",
       "576819  The film opens with a homeless man (Bud Cort) ...        True\n",
       "576820  Will Freeman (Hugh Grant) is a 38-year-old bac...        True\n",
       "576821  In the year 1998, Evan Treborn (Ashton Kutcher...        True\n",
       "576822  Brandon (Michael Fassbender) is a successful, ...        True\n",
       "576823  The film alternates between three different pe...        True\n",
       "\n",
       "[576824 rows x 2 columns]"
      ]
     },
     "execution_count": 35,
     "metadata": {},
     "output_type": "execute_result"
    }
   ],
   "source": [
    "# Cleaning the plot_synopsis column\n",
    "plot_synopsis = movies_details_df.loc[movies_details_df['plot_synopsis'] != '', 'plot_synopsis']\n",
    "\n",
    "# Outputs the length of the 2 category\n",
    "no_spoil_length = len(movies_details_df['plot_summary'])\n",
    "spoil_length = len(plot_synopsis)\n",
    "\n",
    "# Create the appropriate dataFrame for ours models : Text - Is Spoil\n",
    "all_texts = pd.concat([movies_details_df['plot_summary'], plot_synopsis])\n",
    "spoil_categories = [False] * no_spoil_length + [True] * spoil_length\n",
    "is_spoiler_df = pd.DataFrame({'text': all_texts, 'is_spoiler': spoil_categories})\n",
    "\n",
    "# Clean the reviews df to make it more appropriate\n",
    "reviews_df = reviews_df[['review_text', 'is_spoiler']]\n",
    "reviews_df = reviews_df.rename(columns={'review_text': 'text'})\n",
    "\n",
    "# Concat the two df\n",
    "is_spoiler_df = pd.concat([reviews_df, is_spoiler_df], axis=0, ignore_index=True)\n",
    "\n",
    "is_spoiler_df"
   ]
  },
  {
   "cell_type": "code",
   "execution_count": 36,
   "id": "aacd9579-06db-47e0-ba97-dacbcaf656b7",
   "metadata": {},
   "outputs": [],
   "source": [
    "from sklearn.model_selection import train_test_split\n",
    "\n",
    "X = is_spoiler_df['text']\n",
    "y = is_spoiler_df['is_spoiler']\n",
    "\n",
    "X_train, X_test, y_train, y_test = train_test_split(X, y, test_size=0.2, random_state=42) "
   ]
  },
  {
   "cell_type": "code",
   "execution_count": 37,
   "id": "11f92daa-7c0c-4c50-b936-c8092b2da979",
   "metadata": {},
   "outputs": [
    {
     "data": {
      "text/plain": [
       "275275     True\n",
       "369869    False\n",
       "155460    False\n",
       "498151    False\n",
       "250669    False\n",
       "          ...  \n",
       "110268    False\n",
       "259178    False\n",
       "365838     True\n",
       "131932    False\n",
       "121958     True\n",
       "Name: is_spoiler, Length: 461459, dtype: bool"
      ]
     },
     "execution_count": 37,
     "metadata": {},
     "output_type": "execute_result"
    }
   ],
   "source": [
    "y_train"
   ]
  },
  {
   "cell_type": "code",
   "execution_count": 55,
   "id": "00d51a09-1253-4686-a8ba-0924e7a59ea0",
   "metadata": {},
   "outputs": [],
   "source": [
    "test_spoilers = [\n",
    "    \"Lyes meurt à la fin\",\n",
    "    \"Bruce Willis était mort depuis le début dans 'The Sixth Sense' !\",\n",
    "    \"Dark Vador était le père de Luke depuis le début ! C'est incroyable !\",\n",
    "    \"La mort de Hank à la fin de 'Breaking Bad' était tellement inattendue. J'étais complètement choqué.\",\n",
    "    \"Verbal Kint est en réalité Keyser Söze dans 'The Usual Suspects' ! C'est tellement bien fait.\"\n",
    "]\n",
    "\n",
    "def testsuite(model, test_spoilers):\n",
    "    for spoiler in test_spoilers:\n",
    "        print(f\"{spoiler} --> Spoiler : {model.predict([spoiler])}\")"
   ]
  },
  {
   "cell_type": "markdown",
   "id": "564e68e3-4ef5-4521-b350-4eda66bdbc32",
   "metadata": {
    "jp-MarkdownHeadingCollapsed": true
   },
   "source": [
    "## Bayesian Model"
   ]
  },
  {
   "cell_type": "markdown",
   "id": "b8eaddb0-9c4c-4195-ad04-69818745b193",
   "metadata": {},
   "source": [
    "### Training our model"
   ]
  },
  {
   "cell_type": "code",
   "execution_count": 45,
   "id": "206e39b6-e505-40b3-8617-625b28c0bdf4",
   "metadata": {},
   "outputs": [],
   "source": [
    "from sklearn.model_selection import train_test_split\n",
    "from sklearn.pipeline import make_pipeline\n",
    "from sklearn.feature_extraction.text import CountVectorizer\n",
    "from sklearn.naive_bayes import MultinomialNB\n",
    "from sklearn.metrics import ConfusionMatrixDisplay, confusion_matrix\n",
    "\n",
    "import matplotlib.pyplot as plt"
   ]
  },
  {
   "cell_type": "code",
   "execution_count": 91,
   "id": "d602c815-9118-4430-9ee5-95ec3b7a0a6e",
   "metadata": {},
   "outputs": [],
   "source": [
    "ngram_range = (1,1) # Choose the way you would to train the model : Hyper Parameter\n",
    "model = make_pipeline(CountVectorizer(ngram_range = ngram_range), MultinomialNB())\n",
    "\n",
    "model.fit(X_train, y_train)\n",
    "y_pred = model.predict(X_test)"
   ]
  },
  {
   "cell_type": "markdown",
   "id": "82ef6e10-dc70-410a-9765-f2e9c8ebebbf",
   "metadata": {},
   "source": [
    "### Evaluation of our model"
   ]
  },
  {
   "cell_type": "code",
   "execution_count": 93,
   "id": "4c92315f-42ac-4736-8c68-a38a14ac08e5",
   "metadata": {},
   "outputs": [
    {
     "data": {
      "image/png": "[encoded data removed]",
      "text/plain": [
       "<Figure size 640x480 with 2 Axes>"
      ]
     },
     "metadata": {},
     "output_type": "display_data"
    }
   ],
   "source": [
    "cm = confusion_matrix(y_test, y_pred, labels=model.classes_)\n",
    "disp = ConfusionMatrixDisplay(confusion_matrix=cm, display_labels=model.classes_)\n",
    "disp.plot()\n",
    "plt.show()"
   ]
  },
  {
   "cell_type": "markdown",
   "id": "9ec18991-68b3-48bd-9636-cd32930640b2",
   "metadata": {},
   "source": [
    "## Logistic Regression"
   ]
  },
  {
   "cell_type": "code",
   "execution_count": 46,
   "id": "f1a5de58-d5f6-49b8-a1d5-36c42519fb27",
   "metadata": {},
   "outputs": [],
   "source": [
    "from sklearn.pipeline import make_pipeline\n",
    "from sklearn.feature_extraction.text import CountVectorizer, TfidfTransformer\n",
    "from sklearn.linear_model import LogisticRegression\n",
    "from sklearn.model_selection import cross_val_predict"
   ]
  },
  {
   "cell_type": "code",
   "execution_count": 48,
   "id": "00addb59-538b-4502-8b96-c17844080c4e",
   "metadata": {},
   "outputs": [],
   "source": [
    "model = make_pipeline(CountVectorizer(stop_words=\"english\"), TfidfTransformer(), LogisticRegression(random_state=42, max_iter = 1000))\n",
    "\n",
    "\n",
    "cross_val_predict(model, X_train, y_train, cv=5)\n",
    "\n",
    "model.fit(X_train, y_train)\n",
    "y_pred = model.predict(X_test)"
   ]
  },
  {
   "cell_type": "code",
   "execution_count": 49,
   "id": "fcbf0ac7-a6b5-4233-9c3b-5305ba200770",
   "metadata": {},
   "outputs": [
    {
     "data": {
      "image/png": "[encoded data removed]",
      "text/plain": [
       "<Figure size 640x480 with 2 Axes>"
      ]
     },
     "metadata": {},
     "output_type": "display_data"
    }
   ],
   "source": [
    "from sklearn.metrics import ConfusionMatrixDisplay, confusion_matrix\n",
    "\n",
    "import matplotlib.pyplot as plt\n",
    "\n",
    "cm = confusion_matrix(y_test, y_pred, labels=model.classes_)\n",
    "disp = ConfusionMatrixDisplay(confusion_matrix=cm, display_labels=model.classes_)\n",
    "disp.plot()\n",
    "plt.show()"
   ]
  },
  {
   "cell_type": "code",
   "execution_count": 56,
   "id": "4785e823-76af-4d32-8422-4fa76c54a30f",
   "metadata": {},
   "outputs": [
    {
     "name": "stdout",
     "output_type": "stream",
     "text": [
      "Lyes meurt à la fin --> Spoiler : [False]\n",
      "Bruce Willis était mort depuis le début dans 'The Sixth Sense' ! --> Spoiler : [False]\n",
      "Dark Vador était le père de Luke depuis le début ! C'est incroyable ! --> Spoiler : [False]\n",
      "La mort de Hank à la fin de 'Breaking Bad' était tellement inattendue. J'étais complètement choqué. --> Spoiler : [False]\n",
      "Verbal Kint est en réalité Keyser Söze dans 'The Usual Suspects' ! C'est tellement bien fait. --> Spoiler : [False]\n"
     ]
    }
   ],
   "source": [
    "testsuite(model,test_spoilers)"
   ]
  },
  {
   "cell_type": "code",
   "execution_count": 54,
   "id": "83138f18-9e8f-457f-b5f0-6cc1231a2143",
   "metadata": {},
   "outputs": [
    {
     "data": {
      "text/plain": [
       "array([ True])"
      ]
     },
     "execution_count": 54,
     "metadata": {},
     "output_type": "execute_result"
    }
   ],
   "source": [
    "model.predict([\"Spoiler\"])"
   ]
  }
 ],
 "metadata": {
  "kernelspec": {
   "display_name": "Python 3 (ipykernel)",
   "language": "python",
   "name": "python3"
  },
  "language_info": {
   "codemirror_mode": {
    "name": "ipython",
    "version": 3
   },
   "file_extension": ".py",
   "mimetype": "text/x-python",
   "name": "python",
   "nbconvert_exporter": "python",
   "pygments_lexer": "ipython3",
   "version": "3.10.12"
  }
 },
 "nbformat": 4,
 "nbformat_minor": 5
}
