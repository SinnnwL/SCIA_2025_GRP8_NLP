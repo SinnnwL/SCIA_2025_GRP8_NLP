{
 "cells": [
  {
   "cell_type": "code",
   "execution_count": 1,
   "id": "b11c717b",
   "metadata": {
    "_cell_guid": "b1076dfc-b9ad-4769-8c92-a6c4dae69d19",
    "_uuid": "8f2839f25d086af736a60e9eeb907d3b93b6e0e5",
    "execution": {
     "iopub.execute_input": "2024-05-17T05:52:06.121327Z",
     "iopub.status.busy": "2024-05-17T05:52:06.120908Z",
     "iopub.status.idle": "2024-05-17T05:52:21.320648Z",
     "shell.execute_reply": "2024-05-17T05:52:21.319886Z"
    },
    "papermill": {
     "duration": 15.211835,
     "end_time": "2024-05-17T05:52:21.323007",
     "exception": false,
     "start_time": "2024-05-17T05:52:06.111172",
     "status": "completed"
    },
    "tags": []
   },
   "outputs": [
    {
     "name": "stderr",
     "output_type": "stream",
     "text": [
      "2024-05-17 05:52:09.699941: E external/local_xla/xla/stream_executor/cuda/cuda_dnn.cc:9261] Unable to register cuDNN factory: Attempting to register factory for plugin cuDNN when one has already been registered\n",
      "2024-05-17 05:52:09.700037: E external/local_xla/xla/stream_executor/cuda/cuda_fft.cc:607] Unable to register cuFFT factory: Attempting to register factory for plugin cuFFT when one has already been registered\n",
      "2024-05-17 05:52:09.827191: E external/local_xla/xla/stream_executor/cuda/cuda_blas.cc:1515] Unable to register cuBLAS factory: Attempting to register factory for plugin cuBLAS when one has already been registered\n"
     ]
    }
   ],
   "source": [
    "import numpy as np # linear algebra\n",
    "import pandas as pd # data processing, CSV file I/O (e.g. pd.read_csv)\n",
    "from sklearn import feature_extraction, linear_model, model_selection, preprocessing\n",
    "import tensorflow as tf\n",
    "#import keras_core as keras\n",
    "import keras_nlp\n",
    "from sklearn.metrics import ConfusionMatrixDisplay, confusion_matrix\n",
    "import seaborn as sns\n",
    "import matplotlib.pyplot as plt\n",
    "\n",
    "import os\n",
    "os.environ[\"KERAS_BACKEND\"] = \"tensorflow\" \n",
    "\n",
    "import keras\n",
    "import keras_nlp\n",
    "\n",
    "import tensorflow as tf\n",
    "\n",
    "import json\n",
    "import numpy as np\n",
    "import pandas as pd\n",
    "from sklearn.model_selection import train_test_split\n",
    "\n",
    "import plotly.graph_objs as go\n",
    "import plotly.express as px"
   ]
  },
  {
   "cell_type": "code",
   "execution_count": 2,
   "id": "58e8ebfe",
   "metadata": {
    "execution": {
     "iopub.execute_input": "2024-05-17T05:52:21.336479Z",
     "iopub.status.busy": "2024-05-17T05:52:21.335917Z",
     "iopub.status.idle": "2024-05-17T05:52:21.340777Z",
     "shell.execute_reply": "2024-05-17T05:52:21.339950Z"
    },
    "papermill": {
     "duration": 0.013709,
     "end_time": "2024-05-17T05:52:21.342871",
     "exception": false,
     "start_time": "2024-05-17T05:52:21.329162",
     "status": "completed"
    },
    "tags": []
   },
   "outputs": [
    {
     "name": "stdout",
     "output_type": "stream",
     "text": [
      "TensorFlow version: 2.15.0\n",
      "KerasNLP version: 0.9.3\n"
     ]
    }
   ],
   "source": [
    "print(\"TensorFlow version:\", tf.__version__)\n",
    "print(\"KerasNLP version:\", keras_nlp.__version__)"
   ]
  },
  {
   "cell_type": "code",
   "execution_count": 3,
   "id": "098d975c",
   "metadata": {
    "execution": {
     "iopub.execute_input": "2024-05-17T05:52:21.355707Z",
     "iopub.status.busy": "2024-05-17T05:52:21.355446Z",
     "iopub.status.idle": "2024-05-17T05:52:21.359083Z",
     "shell.execute_reply": "2024-05-17T05:52:21.358268Z"
    },
    "papermill": {
     "duration": 0.012208,
     "end_time": "2024-05-17T05:52:21.361013",
     "exception": false,
     "start_time": "2024-05-17T05:52:21.348805",
     "status": "completed"
    },
    "tags": []
   },
   "outputs": [],
   "source": [
    "model_type=\"distil_bert_base_en_uncased\""
   ]
  },
  {
   "cell_type": "code",
   "execution_count": 4,
   "id": "537d5812",
   "metadata": {
    "execution": {
     "iopub.execute_input": "2024-05-17T05:52:21.374065Z",
     "iopub.status.busy": "2024-05-17T05:52:21.373794Z",
     "iopub.status.idle": "2024-05-17T05:52:38.990352Z",
     "shell.execute_reply": "2024-05-17T05:52:38.989435Z"
    },
    "papermill": {
     "duration": 17.625399,
     "end_time": "2024-05-17T05:52:38.992351",
     "exception": false,
     "start_time": "2024-05-17T05:52:21.366952",
     "status": "completed"
    },
    "tags": []
   },
   "outputs": [
    {
     "data": {
      "text/html": [
       "<div>\n",
       "<style scoped>\n",
       "    .dataframe tbody tr th:only-of-type {\n",
       "        vertical-align: middle;\n",
       "    }\n",
       "\n",
       "    .dataframe tbody tr th {\n",
       "        vertical-align: top;\n",
       "    }\n",
       "\n",
       "    .dataframe thead th {\n",
       "        text-align: right;\n",
       "    }\n",
       "</style>\n",
       "<table border=\"1\" class=\"dataframe\">\n",
       "  <thead>\n",
       "    <tr style=\"text-align: right;\">\n",
       "      <th></th>\n",
       "      <th>review_date</th>\n",
       "      <th>movie_id</th>\n",
       "      <th>user_id</th>\n",
       "      <th>is_spoiler</th>\n",
       "      <th>review_text</th>\n",
       "      <th>rating</th>\n",
       "      <th>review_summary</th>\n",
       "    </tr>\n",
       "  </thead>\n",
       "  <tbody>\n",
       "    <tr>\n",
       "      <th>0</th>\n",
       "      <td>10 February 2006</td>\n",
       "      <td>tt0111161</td>\n",
       "      <td>ur1898687</td>\n",
       "      <td>1</td>\n",
       "      <td>In its Oscar year, Shawshank Redemption (writt...</td>\n",
       "      <td>10</td>\n",
       "      <td>A classic piece of unforgettable film-making.</td>\n",
       "    </tr>\n",
       "    <tr>\n",
       "      <th>1</th>\n",
       "      <td>6 September 2000</td>\n",
       "      <td>tt0111161</td>\n",
       "      <td>ur0842118</td>\n",
       "      <td>1</td>\n",
       "      <td>The Shawshank Redemption is without a doubt on...</td>\n",
       "      <td>10</td>\n",
       "      <td>Simply amazing. The best film of the 90's.</td>\n",
       "    </tr>\n",
       "    <tr>\n",
       "      <th>2</th>\n",
       "      <td>3 August 2001</td>\n",
       "      <td>tt0111161</td>\n",
       "      <td>ur1285640</td>\n",
       "      <td>1</td>\n",
       "      <td>I believe that this film is the best story eve...</td>\n",
       "      <td>8</td>\n",
       "      <td>The best story ever told on film</td>\n",
       "    </tr>\n",
       "    <tr>\n",
       "      <th>3</th>\n",
       "      <td>1 September 2002</td>\n",
       "      <td>tt0111161</td>\n",
       "      <td>ur1003471</td>\n",
       "      <td>1</td>\n",
       "      <td>**Yes, there are SPOILERS here**This film has ...</td>\n",
       "      <td>10</td>\n",
       "      <td>Busy dying or busy living?</td>\n",
       "    </tr>\n",
       "    <tr>\n",
       "      <th>4</th>\n",
       "      <td>20 May 2004</td>\n",
       "      <td>tt0111161</td>\n",
       "      <td>ur0226855</td>\n",
       "      <td>1</td>\n",
       "      <td>At the heart of this extraordinary movie is a ...</td>\n",
       "      <td>8</td>\n",
       "      <td>Great story, wondrously told and acted</td>\n",
       "    </tr>\n",
       "    <tr>\n",
       "      <th>...</th>\n",
       "      <td>...</td>\n",
       "      <td>...</td>\n",
       "      <td>...</td>\n",
       "      <td>...</td>\n",
       "      <td>...</td>\n",
       "      <td>...</td>\n",
       "      <td>...</td>\n",
       "    </tr>\n",
       "    <tr>\n",
       "      <th>573908</th>\n",
       "      <td>8 August 1999</td>\n",
       "      <td>tt0139239</td>\n",
       "      <td>ur0100166</td>\n",
       "      <td>0</td>\n",
       "      <td>Go is wise, fast and pure entertainment. Assem...</td>\n",
       "      <td>10</td>\n",
       "      <td>The best teen movie of the nineties</td>\n",
       "    </tr>\n",
       "    <tr>\n",
       "      <th>573909</th>\n",
       "      <td>31 July 1999</td>\n",
       "      <td>tt0139239</td>\n",
       "      <td>ur0021767</td>\n",
       "      <td>0</td>\n",
       "      <td>Well, what shall I say. this one´s fun at any ...</td>\n",
       "      <td>9</td>\n",
       "      <td>Go - see the movie</td>\n",
       "    </tr>\n",
       "    <tr>\n",
       "      <th>573910</th>\n",
       "      <td>20 July 1999</td>\n",
       "      <td>tt0139239</td>\n",
       "      <td>ur0392750</td>\n",
       "      <td>0</td>\n",
       "      <td>Go is the best movie I have ever seen, and I'v...</td>\n",
       "      <td>10</td>\n",
       "      <td>It's the best movie I've ever seen</td>\n",
       "    </tr>\n",
       "    <tr>\n",
       "      <th>573911</th>\n",
       "      <td>11 June 1999</td>\n",
       "      <td>tt0139239</td>\n",
       "      <td>ur0349105</td>\n",
       "      <td>0</td>\n",
       "      <td>Call this 1999 teenage version of Pulp Fiction...</td>\n",
       "      <td>3</td>\n",
       "      <td>Haven't we seen this before?</td>\n",
       "    </tr>\n",
       "    <tr>\n",
       "      <th>573912</th>\n",
       "      <td>3 May 1999</td>\n",
       "      <td>tt0139239</td>\n",
       "      <td>ur0156431</td>\n",
       "      <td>0</td>\n",
       "      <td>Why was this movie made? No doubt to sucker in...</td>\n",
       "      <td>2</td>\n",
       "      <td>Go doesn't go anywhere</td>\n",
       "    </tr>\n",
       "  </tbody>\n",
       "</table>\n",
       "<p>573913 rows × 7 columns</p>\n",
       "</div>"
      ],
      "text/plain": [
       "             review_date   movie_id    user_id  is_spoiler  \\\n",
       "0       10 February 2006  tt0111161  ur1898687           1   \n",
       "1       6 September 2000  tt0111161  ur0842118           1   \n",
       "2          3 August 2001  tt0111161  ur1285640           1   \n",
       "3       1 September 2002  tt0111161  ur1003471           1   \n",
       "4            20 May 2004  tt0111161  ur0226855           1   \n",
       "...                  ...        ...        ...         ...   \n",
       "573908     8 August 1999  tt0139239  ur0100166           0   \n",
       "573909      31 July 1999  tt0139239  ur0021767           0   \n",
       "573910      20 July 1999  tt0139239  ur0392750           0   \n",
       "573911      11 June 1999  tt0139239  ur0349105           0   \n",
       "573912        3 May 1999  tt0139239  ur0156431           0   \n",
       "\n",
       "                                              review_text  rating  \\\n",
       "0       In its Oscar year, Shawshank Redemption (writt...      10   \n",
       "1       The Shawshank Redemption is without a doubt on...      10   \n",
       "2       I believe that this film is the best story eve...       8   \n",
       "3       **Yes, there are SPOILERS here**This film has ...      10   \n",
       "4       At the heart of this extraordinary movie is a ...       8   \n",
       "...                                                   ...     ...   \n",
       "573908  Go is wise, fast and pure entertainment. Assem...      10   \n",
       "573909  Well, what shall I say. this one´s fun at any ...       9   \n",
       "573910  Go is the best movie I have ever seen, and I'v...      10   \n",
       "573911  Call this 1999 teenage version of Pulp Fiction...       3   \n",
       "573912  Why was this movie made? No doubt to sucker in...       2   \n",
       "\n",
       "                                       review_summary  \n",
       "0       A classic piece of unforgettable film-making.  \n",
       "1          Simply amazing. The best film of the 90's.  \n",
       "2                    The best story ever told on film  \n",
       "3                          Busy dying or busy living?  \n",
       "4              Great story, wondrously told and acted  \n",
       "...                                               ...  \n",
       "573908            The best teen movie of the nineties  \n",
       "573909                             Go - see the movie  \n",
       "573910             It's the best movie I've ever seen  \n",
       "573911                   Haven't we seen this before?  \n",
       "573912                         Go doesn't go anywhere  \n",
       "\n",
       "[573913 rows x 7 columns]"
      ]
     },
     "execution_count": 4,
     "metadata": {},
     "output_type": "execute_result"
    }
   ],
   "source": [
    "reviews = pd.read_json('/kaggle/input/imdb-spoiler-dataset/IMDB_reviews.json', lines=True)\n",
    "def replace_string_binary(x):\n",
    "    if x:\n",
    "        return 1\n",
    "    return 0\n",
    "\n",
    "reviews['is_spoiler'] = reviews['is_spoiler'].apply(lambda x: replace_string_binary(x))\n",
    "reviews"
   ]
  },
  {
   "cell_type": "code",
   "execution_count": 5,
   "id": "cb6ef040",
   "metadata": {
    "execution": {
     "iopub.execute_input": "2024-05-17T05:52:39.006402Z",
     "iopub.status.busy": "2024-05-17T05:52:39.006071Z",
     "iopub.status.idle": "2024-05-17T05:52:40.160104Z",
     "shell.execute_reply": "2024-05-17T05:52:40.159302Z"
    },
    "papermill": {
     "duration": 1.163482,
     "end_time": "2024-05-17T05:52:40.162352",
     "exception": false,
     "start_time": "2024-05-17T05:52:38.998870",
     "status": "completed"
    },
    "tags": []
   },
   "outputs": [],
   "source": [
    "# Split data into training and test sets (80% train, 20% test)\n",
    "train_data, test_data = train_test_split(reviews, test_size=0.1, random_state=42)\n",
    "\n",
    "# Define a function to parse the DataFrame\n",
    "def parse_dataframe(df):\n",
    "    # Return features (text review) and labels (sentiment label)\n",
    "    return df[\"review_text\"].values, df[\"is_spoiler\"].values\n",
    "\n",
    "# Convert training and test data to TensorFlow datasets\n",
    "train_dataset = tf.data.Dataset.from_tensor_slices(parse_dataframe(train_data)).batch(32)\n",
    "test_dataset = tf.data.Dataset.from_tensor_slices(parse_dataframe(test_data)).batch(32)"
   ]
  },
  {
   "cell_type": "code",
   "execution_count": 6,
   "id": "14da9429",
   "metadata": {
    "execution": {
     "iopub.execute_input": "2024-05-17T05:52:40.176388Z",
     "iopub.status.busy": "2024-05-17T05:52:40.176086Z",
     "iopub.status.idle": "2024-05-17T05:52:49.134766Z",
     "shell.execute_reply": "2024-05-17T05:52:49.133968Z"
    },
    "papermill": {
     "duration": 8.96817,
     "end_time": "2024-05-17T05:52:49.137103",
     "exception": false,
     "start_time": "2024-05-17T05:52:40.168933",
     "status": "completed"
    },
    "tags": []
   },
   "outputs": [
    {
     "name": "stderr",
     "output_type": "stream",
     "text": [
      "Attaching 'tokenizer.json' from model 'keras/distil_bert/keras/distil_bert_base_en_uncased/2' to your Kaggle notebook...\n",
      "Attaching 'tokenizer.json' from model 'keras/distil_bert/keras/distil_bert_base_en_uncased/2' to your Kaggle notebook...\n",
      "Attaching 'assets/tokenizer/vocabulary.txt' from model 'keras/distil_bert/keras/distil_bert_base_en_uncased/2' to your Kaggle notebook...\n",
      "Attaching 'config.json' from model 'keras/distil_bert/keras/distil_bert_base_en_uncased/2' to your Kaggle notebook...\n",
      "Attaching 'config.json' from model 'keras/distil_bert/keras/distil_bert_base_en_uncased/2' to your Kaggle notebook...\n",
      "Attaching 'model.weights.h5' from model 'keras/distil_bert/keras/distil_bert_base_en_uncased/2' to your Kaggle notebook...\n"
     ]
    }
   ],
   "source": [
    "tokenizer = keras_nlp.models.DistilBertTokenizer.from_preset(model_type)\n",
    "backbone = keras_nlp.models.DistilBertBackbone.from_preset(model_type)"
   ]
  },
  {
   "cell_type": "code",
   "execution_count": 7,
   "id": "7eff9f82",
   "metadata": {
    "execution": {
     "iopub.execute_input": "2024-05-17T05:52:49.152487Z",
     "iopub.status.busy": "2024-05-17T05:52:49.151789Z",
     "iopub.status.idle": "2024-05-17T05:52:50.933656Z",
     "shell.execute_reply": "2024-05-17T05:52:50.932642Z"
    },
    "papermill": {
     "duration": 1.791914,
     "end_time": "2024-05-17T05:52:50.936060",
     "exception": false,
     "start_time": "2024-05-17T05:52:49.144146",
     "status": "completed"
    },
    "tags": []
   },
   "outputs": [],
   "source": [
    "packer = keras_nlp.layers.MultiSegmentPacker(\n",
    "    start_value=tokenizer.cls_token_id,\n",
    "    end_value=tokenizer.sep_token_id,\n",
    "    pad_value=tokenizer.pad_token_id,\n",
    "    sequence_length=500\n",
    ")\n",
    "\n",
    "def preprocess(x, y):\n",
    "    token_ids, _ = packer(tokenizer(x))\n",
    "    x = {\n",
    "        \"token_ids\": token_ids,\n",
    "        \"padding_mask\": token_ids != tokenizer.pad_token_id,\n",
    "    }\n",
    "    return x, y\n",
    "\n",
    "train_ds = train_dataset.map(preprocess, num_parallel_calls=tf.data.AUTOTUNE)\n",
    "val_ds = test_dataset.map(preprocess, num_parallel_calls=tf.data.AUTOTUNE)"
   ]
  },
  {
   "cell_type": "code",
   "execution_count": 8,
   "id": "26a131fb",
   "metadata": {
    "execution": {
     "iopub.execute_input": "2024-05-17T05:52:50.951108Z",
     "iopub.status.busy": "2024-05-17T05:52:50.950790Z",
     "iopub.status.idle": "2024-05-17T05:52:50.956977Z",
     "shell.execute_reply": "2024-05-17T05:52:50.956070Z"
    },
    "papermill": {
     "duration": 0.015728,
     "end_time": "2024-05-17T05:52:50.958871",
     "exception": false,
     "start_time": "2024-05-17T05:52:50.943143",
     "status": "completed"
    },
    "tags": []
   },
   "outputs": [],
   "source": [
    "from tensorflow.keras import callbacks\n",
    "\n",
    "early_stopping = callbacks.EarlyStopping(\n",
    "    min_delta=0.001, # minimium amount of change to count as an improvement\n",
    "    patience=3, # how many epochs to wait before stopping\n",
    "    restore_best_weights=True,\n",
    ")\n",
    "\n",
    "checkpoint = keras.callbacks.ModelCheckpoint(\n",
    "    \"./spoiler.keras\",\n",
    "    monitor='val_accuracy',\n",
    "    verbose=0,\n",
    "    save_best_only=True,\n",
    "    mode='auto'\n",
    ")\n",
    "\n",
    "\n",
    "callbacks = [checkpoint]"
   ]
  },
  {
   "cell_type": "code",
   "execution_count": 9,
   "id": "e94dc0fd",
   "metadata": {
    "execution": {
     "iopub.execute_input": "2024-05-17T05:52:50.973361Z",
     "iopub.status.busy": "2024-05-17T05:52:50.972876Z",
     "iopub.status.idle": "2024-05-17T12:42:44.801248Z",
     "shell.execute_reply": "2024-05-17T12:42:44.800410Z"
    },
    "papermill": {
     "duration": 24593.83939,
     "end_time": "2024-05-17T12:42:44.804935",
     "exception": false,
     "start_time": "2024-05-17T05:52:50.965545",
     "status": "completed"
    },
    "tags": []
   },
   "outputs": [
    {
     "name": "stdout",
     "output_type": "stream",
     "text": [
      "Epoch 1/2\n"
     ]
    },
    {
     "name": "stderr",
     "output_type": "stream",
     "text": [
      "WARNING: All log messages before absl::InitializeLog() is called are written to STDERR\n",
      "I0000 00:00:1715925229.011137      67 device_compiler.h:186] Compiled cluster using XLA!  This line is logged at most once for the lifetime of the process.\n",
      "W0000 00:00:1715925229.057586      67 graph_launch.cc:671] Fallback to op-by-op mode because memset node breaks graph update\n"
     ]
    },
    {
     "name": "stdout",
     "output_type": "stream",
     "text": [
      "\u001b[1m16141/16142\u001b[0m \u001b[32m━━━━━━━━━━━━━━━━━━━\u001b[0m\u001b[37m━\u001b[0m \u001b[1m0s\u001b[0m 732ms/step - accuracy: 0.7822 - loss: 0.4727"
     ]
    },
    {
     "name": "stderr",
     "output_type": "stream",
     "text": [
      "W0000 00:00:1715937083.106849      68 graph_launch.cc:671] Fallback to op-by-op mode because memset node breaks graph update\n"
     ]
    },
    {
     "name": "stdout",
     "output_type": "stream",
     "text": [
      "\u001b[1m16142/16142\u001b[0m \u001b[32m━━━━━━━━━━━━━━━━━━━━\u001b[0m\u001b[37m\u001b[0m \u001b[1m0s\u001b[0m 734ms/step - accuracy: 0.7822 - loss: 0.4727"
     ]
    },
    {
     "name": "stderr",
     "output_type": "stream",
     "text": [
      "W0000 00:00:1715937086.019461      69 graph_launch.cc:671] Fallback to op-by-op mode because memset node breaks graph update\n",
      "W0000 00:00:1715937499.701480      67 graph_launch.cc:671] Fallback to op-by-op mode because memset node breaks graph update\n"
     ]
    },
    {
     "name": "stdout",
     "output_type": "stream",
     "text": [
      "\u001b[1m16142/16142\u001b[0m \u001b[32m━━━━━━━━━━━━━━━━━━━━\u001b[0m\u001b[37m\u001b[0m \u001b[1m12332s\u001b[0m 760ms/step - accuracy: 0.7822 - loss: 0.4727 - val_accuracy: 0.8015 - val_loss: 0.4396\n",
      "Epoch 2/2\n",
      "\u001b[1m16142/16142\u001b[0m \u001b[32m━━━━━━━━━━━━━━━━━━━━\u001b[0m\u001b[37m\u001b[0m \u001b[1m12236s\u001b[0m 758ms/step - accuracy: 0.8079 - loss: 0.4287 - val_accuracy: 0.8068 - val_loss: 0.4328\n"
     ]
    }
   ],
   "source": [
    "inputs = backbone.input\n",
    "outputs = backbone(inputs)[:, 0, :]\n",
    "#outputs = keras.layers.Dense(2028,activation='relu')(outputs)\n",
    "outputs = keras.layers.Dense(1024,activation='relu')(outputs)\n",
    "outputs = keras.layers.Dense(512,activation='relu')(outputs)\n",
    "outputs = keras.layers.Dense(256, activation='relu')(outputs)\n",
    "outputs = keras.layers.Dense(128,activation='relu')(outputs)\n",
    "\n",
    "outputs = keras.layers.Dropout(0.1)(outputs)\n",
    "\n",
    "outputs = keras.layers.Dense(2)(outputs)\n",
    "    \n",
    "model = keras.Model(inputs, outputs)\n",
    "model.compile(\n",
    "    loss=keras.losses.SparseCategoricalCrossentropy(from_logits=True),\n",
    "    optimizer=keras.optimizers.Adam(1e-5),\n",
    "     metrics= [\"accuracy\"],\n",
    "    jit_compile=True,\n",
    "    \n",
    ")\n",
    "\n",
    "history=model.fit(\n",
    "    train_ds, \n",
    "    validation_data=val_ds,\n",
    "    epochs=2, \n",
    "    callbacks=callbacks\n",
    ")"
   ]
  },
  {
   "cell_type": "markdown",
   "id": "d52790e9",
   "metadata": {
    "papermill": {
     "duration": 2.576421,
     "end_time": "2024-05-17T12:42:50.109979",
     "exception": false,
     "start_time": "2024-05-17T12:42:47.533558",
     "status": "completed"
    },
    "tags": []
   },
   "source": [
    "## HuggingFace Transformers"
   ]
  },
  {
   "cell_type": "code",
   "execution_count": 10,
   "id": "632e59f9",
   "metadata": {
    "execution": {
     "iopub.execute_input": "2024-05-17T12:42:55.591441Z",
     "iopub.status.busy": "2024-05-17T12:42:55.590434Z",
     "iopub.status.idle": "2024-05-17T12:42:55.595097Z",
     "shell.execute_reply": "2024-05-17T12:42:55.594174Z"
    },
    "papermill": {
     "duration": 2.724823,
     "end_time": "2024-05-17T12:42:55.596872",
     "exception": false,
     "start_time": "2024-05-17T12:42:52.872049",
     "status": "completed"
    },
    "tags": []
   },
   "outputs": [],
   "source": [
    "#!pip install peft"
   ]
  },
  {
   "cell_type": "code",
   "execution_count": 11,
   "id": "26491702",
   "metadata": {
    "execution": {
     "iopub.execute_input": "2024-05-17T12:43:00.872884Z",
     "iopub.status.busy": "2024-05-17T12:43:00.871911Z",
     "iopub.status.idle": "2024-05-17T12:43:00.876547Z",
     "shell.execute_reply": "2024-05-17T12:43:00.875669Z"
    },
    "papermill": {
     "duration": 2.696623,
     "end_time": "2024-05-17T12:43:00.878457",
     "exception": false,
     "start_time": "2024-05-17T12:42:58.181834",
     "status": "completed"
    },
    "tags": []
   },
   "outputs": [],
   "source": [
    "#from transformers import AutoTokenizer, DataCollatorWithPadding\n",
    "#import pandas as pd\n",
    "\n",
    "#reviews = pd.read_json('/kaggle/input/imdb-spoiler-dataset/IMDB_reviews.json', lines=True)\n",
    "#def replace_string_binary(x):\n",
    "#    if x:\n",
    "#        return 1\n",
    "#    return 0\n",
    "\n",
    "#reviews['label'] = reviews['is_spoiler'].apply(lambda x: replace_string_binary(x))\n",
    "#df = reviews[['review_text', 'label']]\n",
    "#df.head()"
   ]
  },
  {
   "cell_type": "code",
   "execution_count": 12,
   "id": "f1b8c1d4",
   "metadata": {
    "execution": {
     "iopub.execute_input": "2024-05-17T12:43:06.208938Z",
     "iopub.status.busy": "2024-05-17T12:43:06.208076Z",
     "iopub.status.idle": "2024-05-17T12:43:06.212203Z",
     "shell.execute_reply": "2024-05-17T12:43:06.211321Z"
    },
    "papermill": {
     "duration": 2.587209,
     "end_time": "2024-05-17T12:43:06.214181",
     "exception": false,
     "start_time": "2024-05-17T12:43:03.626972",
     "status": "completed"
    },
    "tags": []
   },
   "outputs": [],
   "source": [
    "#from datasets import Dataset\n",
    "\n",
    "#hf_dataset = Dataset.from_pandas(df)\n",
    "#hf_dataset"
   ]
  },
  {
   "cell_type": "code",
   "execution_count": 13,
   "id": "2ef31aef",
   "metadata": {
    "execution": {
     "iopub.execute_input": "2024-05-17T12:43:11.614543Z",
     "iopub.status.busy": "2024-05-17T12:43:11.614178Z",
     "iopub.status.idle": "2024-05-17T12:43:11.618495Z",
     "shell.execute_reply": "2024-05-17T12:43:11.617622Z"
    },
    "papermill": {
     "duration": 2.708868,
     "end_time": "2024-05-17T12:43:11.620409",
     "exception": false,
     "start_time": "2024-05-17T12:43:08.911541",
     "status": "completed"
    },
    "tags": []
   },
   "outputs": [],
   "source": [
    "#checkpoint = \"google-bert/bert-base-cased\"\n",
    "#tokenizer = AutoTokenizer.from_pretrained(checkpoint)\n",
    "\n",
    "#def tokenize_fn(examples):\n",
    "#    return tokenizer(examples['review_text'], truncation=True)\n",
    "\n",
    "#tokenized_datasets = hf_dataset.map(tokenize_fn, batched=True)\n",
    "#data_collator = DataCollatorWithPadding(tokenizer)"
   ]
  },
  {
   "cell_type": "code",
   "execution_count": 14,
   "id": "0a7fa220",
   "metadata": {
    "execution": {
     "iopub.execute_input": "2024-05-17T12:43:17.013633Z",
     "iopub.status.busy": "2024-05-17T12:43:17.012801Z",
     "iopub.status.idle": "2024-05-17T12:43:17.017021Z",
     "shell.execute_reply": "2024-05-17T12:43:17.016113Z"
    },
    "papermill": {
     "duration": 2.718416,
     "end_time": "2024-05-17T12:43:17.018844",
     "exception": false,
     "start_time": "2024-05-17T12:43:14.300428",
     "status": "completed"
    },
    "tags": []
   },
   "outputs": [],
   "source": [
    "#tokenized_datasets"
   ]
  },
  {
   "cell_type": "code",
   "execution_count": 15,
   "id": "d41141b2",
   "metadata": {
    "execution": {
     "iopub.execute_input": "2024-05-17T12:43:22.356348Z",
     "iopub.status.busy": "2024-05-17T12:43:22.355475Z",
     "iopub.status.idle": "2024-05-17T12:43:22.360078Z",
     "shell.execute_reply": "2024-05-17T12:43:22.359199Z"
    },
    "papermill": {
     "duration": 2.741942,
     "end_time": "2024-05-17T12:43:22.362141",
     "exception": false,
     "start_time": "2024-05-17T12:43:19.620199",
     "status": "completed"
    },
    "tags": []
   },
   "outputs": [],
   "source": [
    "#from transformers import AutoModelForSequenceClassification\n",
    "#from peft import get_peft_model, LoraConfig, TaskType\n",
    "#model = AutoModelForSequenceClassification.from_pretrained(checkpoint, num_labels=2)\n",
    "#peft_config = LoraConfig(\n",
    "#    task_type=TaskType.SEQ_CLS,\n",
    "#    inference_mode=False,\n",
    "#    r=8,\n",
    "#    lora_alpha=32,\n",
    "#    lora_dropout=0.1\n",
    "#)\n",
    "#model = get_peft_model(model, peft_config)\n",
    "#model.print_trainable_parameters()"
   ]
  },
  {
   "cell_type": "code",
   "execution_count": 16,
   "id": "a0fe0302",
   "metadata": {
    "execution": {
     "iopub.execute_input": "2024-05-17T12:43:27.706478Z",
     "iopub.status.busy": "2024-05-17T12:43:27.705623Z",
     "iopub.status.idle": "2024-05-17T12:43:27.710040Z",
     "shell.execute_reply": "2024-05-17T12:43:27.709157Z"
    },
    "papermill": {
     "duration": 2.583841,
     "end_time": "2024-05-17T12:43:27.712030",
     "exception": false,
     "start_time": "2024-05-17T12:43:25.128189",
     "status": "completed"
    },
    "tags": []
   },
   "outputs": [],
   "source": [
    "#split_datasets = tokenized_datasets.train_test_split(test_size=0.2)"
   ]
  },
  {
   "cell_type": "code",
   "execution_count": 17,
   "id": "186cce09",
   "metadata": {
    "execution": {
     "iopub.execute_input": "2024-05-17T12:43:33.153073Z",
     "iopub.status.busy": "2024-05-17T12:43:33.152680Z",
     "iopub.status.idle": "2024-05-17T12:43:33.156843Z",
     "shell.execute_reply": "2024-05-17T12:43:33.155966Z"
    },
    "papermill": {
     "duration": 2.735226,
     "end_time": "2024-05-17T12:43:33.158636",
     "exception": false,
     "start_time": "2024-05-17T12:43:30.423410",
     "status": "completed"
    },
    "tags": []
   },
   "outputs": [],
   "source": [
    "#from transformers import TrainingArguments\n",
    "#\n",
    "#training_args = TrainingArguments(\n",
    "#    \"test-trainer\",\n",
    "#    per_device_train_batch_size=16,\n",
    "#    per_device_eval_batch_size=16,\n",
    "#    num_train_epochs=2,\n",
    "#    learning_rate=1e-5,\n",
    "#    weight_decay=0.01\n",
    "#)"
   ]
  },
  {
   "cell_type": "code",
   "execution_count": 18,
   "id": "f0084f28",
   "metadata": {
    "execution": {
     "iopub.execute_input": "2024-05-17T12:43:38.450663Z",
     "iopub.status.busy": "2024-05-17T12:43:38.450278Z",
     "iopub.status.idle": "2024-05-17T12:43:38.454554Z",
     "shell.execute_reply": "2024-05-17T12:43:38.453675Z"
    },
    "papermill": {
     "duration": 2.721576,
     "end_time": "2024-05-17T12:43:38.456446",
     "exception": false,
     "start_time": "2024-05-17T12:43:35.734870",
     "status": "completed"
    },
    "tags": []
   },
   "outputs": [],
   "source": [
    "#from transformers import Trainer\n",
    "\n",
    "#trainer = Trainer(\n",
    "#    model,\n",
    "#    training_args,\n",
    "#    train_dataset=split_datasets[\"train\"],\n",
    "#    eval_dataset=split_datasets[\"test\"],\n",
    "#    data_collator=data_collator,\n",
    "#    tokenizer=tokenizer\n",
    "#)\n",
    "\n",
    "#trainer.train()"
   ]
  },
  {
   "cell_type": "code",
   "execution_count": null,
   "id": "2d93826d",
   "metadata": {
    "papermill": {
     "duration": 2.816493,
     "end_time": "2024-05-17T12:43:43.865599",
     "exception": false,
     "start_time": "2024-05-17T12:43:41.049106",
     "status": "completed"
    },
    "tags": []
   },
   "outputs": [],
   "source": []
  }
 ],
 "metadata": {
  "kaggle": {
   "accelerator": "gpu",
   "dataSources": [
    {
     "databundleVersionId": 458250,
     "datasetId": 200769,
     "sourceId": 442620,
     "sourceType": "datasetVersion"
    },
    {
     "databundleVersionId": 7429247,
     "modelInstanceId": 4689,
     "sourceId": 6068,
     "sourceType": "modelInstanceVersion"
    }
   ],
   "dockerImageVersionId": 30698,
   "isGpuEnabled": true,
   "isInternetEnabled": true,
   "language": "python",
   "sourceType": "notebook"
  },
  "kernelspec": {
   "display_name": "Python 3",
   "language": "python",
   "name": "python3"
  },
  "language_info": {
   "codemirror_mode": {
    "name": "ipython",
    "version": 3
   },
   "file_extension": ".py",
   "mimetype": "text/x-python",
   "name": "python",
   "nbconvert_exporter": "python",
   "pygments_lexer": "ipython3",
   "version": "3.10.13"
  },
  "papermill": {
   "default_parameters": {},
   "duration": 24706.355914,
   "end_time": "2024-05-17T12:43:49.807938",
   "environment_variables": {},
   "exception": null,
   "input_path": "__notebook__.ipynb",
   "output_path": "__notebook__.ipynb",
   "parameters": {},
   "start_time": "2024-05-17T05:52:03.452024",
   "version": "2.5.0"
  }
 },
 "nbformat": 4,
 "nbformat_minor": 5
}
